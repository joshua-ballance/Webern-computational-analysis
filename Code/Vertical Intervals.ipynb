{
 "cells": [
  {
   "cell_type": "markdown",
   "metadata": {},
   "source": [
    "# Introduction\n",
    "Calculate the interval content of all verticalities and summarise the comparative durations of all intervals"
   ]
  },
  {
   "cell_type": "code",
   "execution_count": null,
   "metadata": {},
   "outputs": [],
   "source": [
    "from music21 import *\n",
    "import statistics\n",
    "import numpy as np\n",
    "import pandas as pd"
   ]
  },
  {
   "cell_type": "code",
   "execution_count": null,
   "metadata": {},
   "outputs": [],
   "source": [
    "properCorpus = corpus.corpora.LocalCorpus('DPhilCorpus')\n",
    "properCorpus.existsInSettings\n",
    "properCorpus.addPath('~/Desktop/Oxford/Corpus/Sounding Corpus (Movements)/XML/')\n",
    "properCorpus.directoryPaths\n",
    "properCorpus.save()\n",
    "properCorpus.existsInSettings"
   ]
  },
  {
   "cell_type": "code",
   "execution_count": null,
   "metadata": {},
   "outputs": [],
   "source": [
    "pieceName = []\n",
    "listOfWorks = properCorpus.search('Op.')\n",
    "for el in listOfWorks:\n",
    "    pieceName.append(el.sourcePath)"
   ]
  },
  {
   "cell_type": "code",
   "execution_count": 4,
   "metadata": {},
   "outputs": [],
   "source": [
    "listOfMovements = []\n",
    "listOfMovements.append('Interval (Semitones)')\n",
    "for el in pieceName:\n",
    "    listOfMovements.append(str(el).replace(\"/Users/joshua ballance/Desktop/Oxford/Corpus/Sounding Corpus (Movements)/XML/\", \"\").replace(\".xml\", \"\").replace(\".mxl\", \"\"))"
   ]
  },
  {
   "cell_type": "code",
   "execution_count": null,
   "metadata": {},
   "outputs": [],
   "source": [
    "listOfTotalResults = []\n",
    "listOfRanges = []\n",
    "for el in pieceName:\n",
    "    thePiece = corpus.parse(el)\n",
    "    fileTitle = str(el).replace(\"/Users/joshua ballance/Desktop/Oxford/Corpus/Sounding Corpus (Movements)/XML/\", \"\").replace(\".xml\", \"\").replace(\".mxl\", \"\")\n",
    "    opusNumber = fileTitle.replace(\"Op.\", \"\").replace(\" \", \"\").replace(\"i\", \"\").replace(\"v\", \"\")\n",
    "    movementNumber = fileTitle.replace(\"Op.\", \"\").replace(\" \", \"\").replace(\"1\", \"\").replace(\"2\", \"\").replace(\"3\", \"\").replace(\"4\", \"\").replace(\"5\", \"\").replace(\"6\", \"\").replace(\"7\", \"\").replace(\"8\", \"\").replace(\"9\", \"\").replace(\"0\", \"\")\n",
    "    chordifiedPiece = thePiece.chordify()\n",
    "    listOfChords = []\n",
    "    chords = chordifiedPiece.flat.recurse().getElementsByClass('Chord')\n",
    "    chordsBiggerThanOneNote = []\n",
    "    for g in chords:\n",
    "        if len(g)>1:\n",
    "            chordsBiggerThanOneNote.append(g)\n",
    "    intervalsAndDurations = []\n",
    "    for h in chordsBiggerThanOneNote:\n",
    "        for i in range(1, len(h)):\n",
    "            bass_note = h[0]\n",
    "            considering_note = h[i]\n",
    "            if bass_note.pitch.frequency == considering_note.pitch.frequency:\n",
    "                pass\n",
    "            else:\n",
    "                temp = []\n",
    "                intervalName = interval.Interval(bass_note, considering_note)\n",
    "                numberOfSemitones = intervalName.semitones\n",
    "                intervalDuration = h.seconds\n",
    "                temp.append(numberOfSemitones)\n",
    "                temp.append(intervalDuration)\n",
    "                intervalsAndDurations.append(temp)\n",
    "    allIntervals = []\n",
    "    for j in intervalsAndDurations:\n",
    "        allIntervals.append(j[0])\n",
    "    set_of_intervals = set(allIntervals)\n",
    "    newListOfIntervalsAndDurations = []\n",
    "    for k in set_of_intervals:\n",
    "        firstTemp = []\n",
    "        firstTemp.append(k)\n",
    "        secondTemp = []\n",
    "        for l in intervalsAndDurations:\n",
    "            if l[0] == k:\n",
    "                secondTemp.append(l[1])\n",
    "        firstTemp.append(sum(secondTemp))\n",
    "        newListOfIntervalsAndDurations.append(firstTemp)\n",
    "    newListOfIntervalsAndDurations.sort(key=lambda x:x[0])\n",
    "    listOfAllDurations = []\n",
    "    for m in newListOfIntervalsAndDurations:\n",
    "        listOfAllDurations.append(m[1])\n",
    "    totalDurations = sum(listOfAllDurations)\n",
    "    revisedListOfIntervalsAndDurations = []\n",
    "    for n in newListOfIntervalsAndDurations:\n",
    "        temp = []\n",
    "        temp.append(n[0])\n",
    "        temp.append(n[1])\n",
    "        revisedListOfIntervalsAndDurations.append(temp)\n",
    "    finalList = [fileTitle, int(opusNumber)]\n",
    "    for o in revisedListOfIntervalsAndDurations:\n",
    "        finalList.append(o)\n",
    "    listOfTotalResults.append(finalList)\n",
    "listOfTotalResults.sort(key=lambda x: x[1])"
   ]
  },
  {
   "cell_type": "code",
   "execution_count": 8,
   "metadata": {},
   "outputs": [],
   "source": [
    "final_list_of_results = []\n",
    "for g in listOfTotalResults:\n",
    "    temp = []\n",
    "    temp.append(g[0])\n",
    "    for h in g[2:]:\n",
    "        temp.append(h)\n",
    "    final_list_of_results.append(temp)\n",
    "all_intervals_list = []\n",
    "for i in final_list_of_results:\n",
    "    for j in i[1:]: \n",
    "        all_intervals_list.append(j[0])\n",
    "all_intervals_set = set(all_intervals_list)\n",
    "for k in final_list_of_results:\n",
    "    this_piece_intervals = []\n",
    "    for l in k[1:]:\n",
    "        this_piece_intervals.append(l[0])\n",
    "    for m in range(0, max(all_intervals_set)+1):\n",
    "        if int(m) in this_piece_intervals:\n",
    "            pass\n",
    "        else:\n",
    "            k.append([m, 0])\n",
    "list_of_titles = []\n",
    "tidy_final_list_of_results = []            \n",
    "for n in final_list_of_results:\n",
    "    list_of_titles.append(n[0])\n",
    "    results = n[1:]\n",
    "    results.sort(key=lambda x:x[0])\n",
    "    temp = []\n",
    "    for o in results:\n",
    "        temp.append(o[1])\n",
    "    tidy_final_list_of_results.append(temp)\n",
    "df = pd.DataFrame(tidy_final_list_of_results, index = list_of_titles)\n",
    "df"
   ]
  }
 ],
 "metadata": {
  "kernelspec": {
   "display_name": "Python 3 (ipykernel)",
   "language": "python",
   "name": "python3"
  },
  "language_info": {
   "codemirror_mode": {
    "name": "ipython",
    "version": 3
   },
   "file_extension": ".py",
   "mimetype": "text/x-python",
   "name": "python",
   "nbconvert_exporter": "python",
   "pygments_lexer": "ipython3",
   "version": "3.9.7"
  },
  "varInspector": {
   "cols": {
    "lenName": 16,
    "lenType": 16,
    "lenVar": 40
   },
   "kernels_config": {
    "python": {
     "delete_cmd_postfix": "",
     "delete_cmd_prefix": "del ",
     "library": "var_list.py",
     "varRefreshCmd": "print(var_dic_list())"
    },
    "r": {
     "delete_cmd_postfix": ") ",
     "delete_cmd_prefix": "rm(",
     "library": "var_list.r",
     "varRefreshCmd": "cat(var_dic_list()) "
    }
   },
   "types_to_exclude": [
    "module",
    "function",
    "builtin_function_or_method",
    "instance",
    "_Feature"
   ],
   "window_display": false
  }
 },
 "nbformat": 4,
 "nbformat_minor": 2
}
