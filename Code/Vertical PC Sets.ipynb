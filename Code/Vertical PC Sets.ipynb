{
 "cells": [
  {
   "cell_type": "markdown",
   "metadata": {},
   "source": [
    "# Introduction\n",
    "Lists the proportions of all verticalities in each piece in the corpus. These are categorised by their prime form; proportions are calculated temporally."
   ]
  },
  {
   "cell_type": "code",
   "execution_count": null,
   "metadata": {},
   "outputs": [],
   "source": [
    "from music21 import *\n",
    "import statistics\n",
    "import numpy as np\n",
    "import pandas as pd"
   ]
  },
  {
   "cell_type": "code",
   "execution_count": null,
   "metadata": {},
   "outputs": [],
   "source": [
    "properCorpus = corpus.corpora.LocalCorpus('DPhilCorpus')\n",
    "properCorpus.existsInSettings\n",
    "properCorpus.addPath('~/Desktop/Oxford/Corpus/Sounding Corpus (Movements)/XML/')\n",
    "properCorpus.directoryPaths\n",
    "properCorpus.save()\n",
    "properCorpus.existsInSettings"
   ]
  },
  {
   "cell_type": "code",
   "execution_count": null,
   "metadata": {},
   "outputs": [],
   "source": [
    "pieceName = []\n",
    "listOfWorks = properCorpus.search('Op.')\n",
    "for el in listOfWorks:\n",
    "    pieceName.append(el.sourcePath)"
   ]
  },
  {
   "cell_type": "code",
   "execution_count": 4,
   "metadata": {},
   "outputs": [],
   "source": [
    "listOfAllVerticalities = []\n",
    "listOfTotalResults = []\n",
    "for el in pieceName:\n",
    "    thePiece = corpus.parse(el)\n",
    "    fileTitle = str(el).replace(\"/Users/joshua ballance/Desktop/Oxford/Corpus/Sounding Corpus (Movements)/XML/\", \"\").replace(\".xml\", \"\").replace(\".mxl\", \"\")\n",
    "    opusNumber = fileTitle.replace(\"Op.\", \"\").replace(\" \", \"\").replace(\"i\", \"\").replace(\"v\", \"\")\n",
    "    movementNumber = fileTitle.replace(\"Op.\", \"\").replace(\" \", \"\").replace(\"1\", \"\").replace(\"2\", \"\").replace(\"3\", \"\").replace(\"4\", \"\").replace(\"5\", \"\").replace(\"6\", \"\").replace(\"7\", \"\").replace(\"8\", \"\").replace(\"9\", \"\").replace(\"0\", \"\")\n",
    "    chordifiedPiece = thePiece.chordify()\n",
    "    chords = chordifiedPiece.flat.recurse().getElementsByClass('Chord')\n",
    "    listOfPF = []\n",
    "    listOfDurations = []\n",
    "    listOfPFAndDuration = []\n",
    "    for el in chords:\n",
    "        temp = []\n",
    "        prime_form = []\n",
    "        for i in el.primeForm:\n",
    "            prime_form.append(i)\n",
    "        temp.append(prime_form)\n",
    "        temp.append(el.seconds)\n",
    "        listOfPF.append(str(prime_form))\n",
    "        listOfDurations.append(el.seconds)\n",
    "        listOfPFAndDuration.append(temp)\n",
    "        listOfAllVerticalities.append(prime_form)\n",
    "    summarisedListOfPF = list(dict.fromkeys(listOfPF))\n",
    "    summarisedListOfPFAndDuration = []\n",
    "    for el in summarisedListOfPF:\n",
    "        temp = []\n",
    "        for i in listOfPFAndDuration:\n",
    "            if el == str(i[0]):\n",
    "                temp.append(i[1])\n",
    "        newTemp = []\n",
    "        newTemp.append(el)\n",
    "        newTemp.append(sum(temp)/sum(listOfDurations)*100)\n",
    "        summarisedListOfPFAndDuration.append(newTemp)\n",
    "    temp = []\n",
    "    temp.append(fileTitle)\n",
    "    temp.append(opusNumber)\n",
    "    temp.append(summarisedListOfPFAndDuration)\n",
    "    listOfTotalResults.append(temp)"
   ]
  },
  {
   "cell_type": "code",
   "execution_count": 5,
   "metadata": {},
   "outputs": [],
   "source": [
    "newListOfAllVerticalities = []\n",
    "for el in listOfAllVerticalities:\n",
    "    if el in newListOfAllVerticalities:\n",
    "        pass\n",
    "    else:\n",
    "        newListOfAllVerticalities.append(el)\n",
    "newNewListOfAllVerticalities = sorted(newListOfAllVerticalities, key=len) \n",
    "newNewListOfAllVerticalities.sort(key=lambda x: x)\n",
    "newNewListOfAllVerticalities = sorted(newNewListOfAllVerticalities, key=len)"
   ]
  },
  {
   "cell_type": "code",
   "execution_count": null,
   "metadata": {},
   "outputs": [],
   "source": [
    "finalListForCSV = []\n",
    "firstLine = ['Title']\n",
    "for el in newNewListOfAllVerticalities:\n",
    "    firstLine.append(str(el).replace(\",\", \"\"))\n",
    "finalListForCSV.append(firstLine)\n",
    "listOfTotalResults.sort(key=lambda x: int(x[1]))\n",
    "for el in listOfTotalResults:\n",
    "    newLine = []\n",
    "    newLine.append(el[0])\n",
    "    tempListOfPF = []\n",
    "    for j in el[2]:\n",
    "        tempListOfPF.append(j[0])\n",
    "    for i in newNewListOfAllVerticalities:\n",
    "        if str(i) in tempListOfPF:\n",
    "            for j in el[2]:\n",
    "                if j[0] == str(i):\n",
    "                    newLine.append(j[1])\n",
    "        else:\n",
    "            newLine.append(0)\n",
    "    finalListForCSV.append(newLine)"
   ]
  },
  {
   "cell_type": "code",
   "execution_count": null,
   "metadata": {},
   "outputs": [],
   "source": [
    "df = pd.DataFrame(finalListForCSV)"
   ]
  }
 ],
 "metadata": {
  "kernelspec": {
   "display_name": "Python 3 (ipykernel)",
   "language": "python",
   "name": "python3"
  },
  "language_info": {
   "codemirror_mode": {
    "name": "ipython",
    "version": 3
   },
   "file_extension": ".py",
   "mimetype": "text/x-python",
   "name": "python",
   "nbconvert_exporter": "python",
   "pygments_lexer": "ipython3",
   "version": "3.9.7"
  },
  "varInspector": {
   "cols": {
    "lenName": 16,
    "lenType": 16,
    "lenVar": 40
   },
   "kernels_config": {
    "python": {
     "delete_cmd_postfix": "",
     "delete_cmd_prefix": "del ",
     "library": "var_list.py",
     "varRefreshCmd": "print(var_dic_list())"
    },
    "r": {
     "delete_cmd_postfix": ") ",
     "delete_cmd_prefix": "rm(",
     "library": "var_list.r",
     "varRefreshCmd": "cat(var_dic_list()) "
    }
   },
   "types_to_exclude": [
    "module",
    "function",
    "builtin_function_or_method",
    "instance",
    "_Feature"
   ],
   "window_display": false
  }
 },
 "nbformat": 4,
 "nbformat_minor": 2
}
